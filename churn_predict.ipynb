{
  "nbformat": 4,
  "nbformat_minor": 0,
  "metadata": {
    "colab": {
      "name": "churn_predict.ipynb",
      "provenance": [],
      "collapsed_sections": [],
      "authorship_tag": "ABX9TyMXgkg/j3nf2cP2CqoupiKk",
      "include_colab_link": true
    },
    "kernelspec": {
      "name": "python3",
      "display_name": "Python 3"
    }
  },
  "cells": [
    {
      "cell_type": "markdown",
      "metadata": {
        "id": "view-in-github",
        "colab_type": "text"
      },
      "source": [
        "<a href=\"https://colab.research.google.com/github/mohiteprathamesh1996/Telco-Customer-Churn/blob/main/churn_predict.ipynb\" target=\"_parent\"><img src=\"https://colab.research.google.com/assets/colab-badge.svg\" alt=\"Open In Colab\"/></a>"
      ]
    },
    {
      "cell_type": "markdown",
      "metadata": {
        "id": "8Z_8hRdBAj8M"
      },
      "source": [
        "#### Importing packages"
      ]
    },
    {
      "cell_type": "code",
      "metadata": {
        "id": "APmvATr8AiWE"
      },
      "source": [
        "import pandas as pd\r\n",
        "pd.options.display.max_rows = 999\r\n",
        "import numpy as np\r\n",
        "import matplotlib.pyplot as plt"
      ],
      "execution_count": 1,
      "outputs": []
    },
    {
      "cell_type": "markdown",
      "metadata": {
        "id": "aWOi1VMPAo0K"
      },
      "source": [
        "#### Load data"
      ]
    },
    {
      "cell_type": "code",
      "metadata": {
        "colab": {
          "base_uri": "https://localhost:8080/",
          "height": 309
        },
        "id": "1Wn09Ve7Anni",
        "outputId": "9919a1f0-eecd-415f-e5dd-b6f09173aadc"
      },
      "source": [
        "#from google.colab import files\r\n",
        "\r\n",
        "#uploaded = files.upload()\r\n",
        "\r\n",
        "df = pd.read_csv(\"https://raw.githubusercontent.com/srivatsan88/YouTubeLI/master/dataset/WA_Fn-UseC_-Telco-Customer-Churn.csv\")\r\n",
        "df.head()"
      ],
      "execution_count": 2,
      "outputs": [
        {
          "output_type": "execute_result",
          "data": {
            "text/html": [
              "<div>\n",
              "<style scoped>\n",
              "    .dataframe tbody tr th:only-of-type {\n",
              "        vertical-align: middle;\n",
              "    }\n",
              "\n",
              "    .dataframe tbody tr th {\n",
              "        vertical-align: top;\n",
              "    }\n",
              "\n",
              "    .dataframe thead th {\n",
              "        text-align: right;\n",
              "    }\n",
              "</style>\n",
              "<table border=\"1\" class=\"dataframe\">\n",
              "  <thead>\n",
              "    <tr style=\"text-align: right;\">\n",
              "      <th></th>\n",
              "      <th>customerID</th>\n",
              "      <th>gender</th>\n",
              "      <th>SeniorCitizen</th>\n",
              "      <th>Partner</th>\n",
              "      <th>Dependents</th>\n",
              "      <th>tenure</th>\n",
              "      <th>PhoneService</th>\n",
              "      <th>MultipleLines</th>\n",
              "      <th>InternetService</th>\n",
              "      <th>OnlineSecurity</th>\n",
              "      <th>OnlineBackup</th>\n",
              "      <th>DeviceProtection</th>\n",
              "      <th>TechSupport</th>\n",
              "      <th>StreamingTV</th>\n",
              "      <th>StreamingMovies</th>\n",
              "      <th>Contract</th>\n",
              "      <th>PaperlessBilling</th>\n",
              "      <th>PaymentMethod</th>\n",
              "      <th>MonthlyCharges</th>\n",
              "      <th>TotalCharges</th>\n",
              "      <th>Churn</th>\n",
              "    </tr>\n",
              "  </thead>\n",
              "  <tbody>\n",
              "    <tr>\n",
              "      <th>0</th>\n",
              "      <td>7590-VHVEG</td>\n",
              "      <td>Female</td>\n",
              "      <td>0</td>\n",
              "      <td>Yes</td>\n",
              "      <td>No</td>\n",
              "      <td>1</td>\n",
              "      <td>No</td>\n",
              "      <td>No phone service</td>\n",
              "      <td>DSL</td>\n",
              "      <td>No</td>\n",
              "      <td>Yes</td>\n",
              "      <td>No</td>\n",
              "      <td>No</td>\n",
              "      <td>No</td>\n",
              "      <td>No</td>\n",
              "      <td>Month-to-month</td>\n",
              "      <td>Yes</td>\n",
              "      <td>Electronic check</td>\n",
              "      <td>29.85</td>\n",
              "      <td>29.85</td>\n",
              "      <td>No</td>\n",
              "    </tr>\n",
              "    <tr>\n",
              "      <th>1</th>\n",
              "      <td>5575-GNVDE</td>\n",
              "      <td>Male</td>\n",
              "      <td>0</td>\n",
              "      <td>No</td>\n",
              "      <td>No</td>\n",
              "      <td>34</td>\n",
              "      <td>Yes</td>\n",
              "      <td>No</td>\n",
              "      <td>DSL</td>\n",
              "      <td>Yes</td>\n",
              "      <td>No</td>\n",
              "      <td>Yes</td>\n",
              "      <td>No</td>\n",
              "      <td>No</td>\n",
              "      <td>No</td>\n",
              "      <td>One year</td>\n",
              "      <td>No</td>\n",
              "      <td>Mailed check</td>\n",
              "      <td>56.95</td>\n",
              "      <td>1889.5</td>\n",
              "      <td>No</td>\n",
              "    </tr>\n",
              "    <tr>\n",
              "      <th>2</th>\n",
              "      <td>3668-QPYBK</td>\n",
              "      <td>Male</td>\n",
              "      <td>0</td>\n",
              "      <td>No</td>\n",
              "      <td>No</td>\n",
              "      <td>2</td>\n",
              "      <td>Yes</td>\n",
              "      <td>No</td>\n",
              "      <td>DSL</td>\n",
              "      <td>Yes</td>\n",
              "      <td>Yes</td>\n",
              "      <td>No</td>\n",
              "      <td>No</td>\n",
              "      <td>No</td>\n",
              "      <td>No</td>\n",
              "      <td>Month-to-month</td>\n",
              "      <td>Yes</td>\n",
              "      <td>Mailed check</td>\n",
              "      <td>53.85</td>\n",
              "      <td>108.15</td>\n",
              "      <td>Yes</td>\n",
              "    </tr>\n",
              "    <tr>\n",
              "      <th>3</th>\n",
              "      <td>7795-CFOCW</td>\n",
              "      <td>Male</td>\n",
              "      <td>0</td>\n",
              "      <td>No</td>\n",
              "      <td>No</td>\n",
              "      <td>45</td>\n",
              "      <td>No</td>\n",
              "      <td>No phone service</td>\n",
              "      <td>DSL</td>\n",
              "      <td>Yes</td>\n",
              "      <td>No</td>\n",
              "      <td>Yes</td>\n",
              "      <td>Yes</td>\n",
              "      <td>No</td>\n",
              "      <td>No</td>\n",
              "      <td>One year</td>\n",
              "      <td>No</td>\n",
              "      <td>Bank transfer (automatic)</td>\n",
              "      <td>42.30</td>\n",
              "      <td>1840.75</td>\n",
              "      <td>No</td>\n",
              "    </tr>\n",
              "    <tr>\n",
              "      <th>4</th>\n",
              "      <td>9237-HQITU</td>\n",
              "      <td>Female</td>\n",
              "      <td>0</td>\n",
              "      <td>No</td>\n",
              "      <td>No</td>\n",
              "      <td>2</td>\n",
              "      <td>Yes</td>\n",
              "      <td>No</td>\n",
              "      <td>Fiber optic</td>\n",
              "      <td>No</td>\n",
              "      <td>No</td>\n",
              "      <td>No</td>\n",
              "      <td>No</td>\n",
              "      <td>No</td>\n",
              "      <td>No</td>\n",
              "      <td>Month-to-month</td>\n",
              "      <td>Yes</td>\n",
              "      <td>Electronic check</td>\n",
              "      <td>70.70</td>\n",
              "      <td>151.65</td>\n",
              "      <td>Yes</td>\n",
              "    </tr>\n",
              "  </tbody>\n",
              "</table>\n",
              "</div>"
            ],
            "text/plain": [
              "   customerID  gender  SeniorCitizen  ... MonthlyCharges TotalCharges  Churn\n",
              "0  7590-VHVEG  Female              0  ...          29.85        29.85     No\n",
              "1  5575-GNVDE    Male              0  ...          56.95       1889.5     No\n",
              "2  3668-QPYBK    Male              0  ...          53.85       108.15    Yes\n",
              "3  7795-CFOCW    Male              0  ...          42.30      1840.75     No\n",
              "4  9237-HQITU  Female              0  ...          70.70       151.65    Yes\n",
              "\n",
              "[5 rows x 21 columns]"
            ]
          },
          "metadata": {
            "tags": []
          },
          "execution_count": 2
        }
      ]
    },
    {
      "cell_type": "code",
      "metadata": {
        "id": "tk_NxLR7DoDh",
        "colab": {
          "base_uri": "https://localhost:8080/"
        },
        "outputId": "d52609a2-3c51-424f-effb-94da49580b86"
      },
      "source": [
        "df.columns"
      ],
      "execution_count": 3,
      "outputs": [
        {
          "output_type": "execute_result",
          "data": {
            "text/plain": [
              "Index(['customerID', 'gender', 'SeniorCitizen', 'Partner', 'Dependents',\n",
              "       'tenure', 'PhoneService', 'MultipleLines', 'InternetService',\n",
              "       'OnlineSecurity', 'OnlineBackup', 'DeviceProtection', 'TechSupport',\n",
              "       'StreamingTV', 'StreamingMovies', 'Contract', 'PaperlessBilling',\n",
              "       'PaymentMethod', 'MonthlyCharges', 'TotalCharges', 'Churn'],\n",
              "      dtype='object')"
            ]
          },
          "metadata": {
            "tags": []
          },
          "execution_count": 3
        }
      ]
    },
    {
      "cell_type": "markdown",
      "metadata": {
        "id": "IsEQjZhLBGc3"
      },
      "source": [
        "#### Start H2O"
      ]
    },
    {
      "cell_type": "code",
      "metadata": {
        "colab": {
          "base_uri": "https://localhost:8080/",
          "height": 698
        },
        "id": "EKeg-egEBGGy",
        "outputId": "315364d6-61c9-421d-9a61-3a57ddfc76f5"
      },
      "source": [
        "!pip install h2o\r\n",
        "import h2o\r\n",
        "from h2o.automl import H2OAutoML\r\n",
        "h2o.init(max_mem_size=\"25G\")"
      ],
      "execution_count": 4,
      "outputs": [
        {
          "output_type": "stream",
          "text": [
            "Requirement already satisfied: h2o in /usr/local/lib/python3.6/dist-packages (3.32.0.4)\n",
            "Requirement already satisfied: future in /usr/local/lib/python3.6/dist-packages (from h2o) (0.16.0)\n",
            "Requirement already satisfied: colorama>=0.3.8 in /usr/local/lib/python3.6/dist-packages (from h2o) (0.4.4)\n",
            "Requirement already satisfied: requests in /usr/local/lib/python3.6/dist-packages (from h2o) (2.23.0)\n",
            "Requirement already satisfied: tabulate in /usr/local/lib/python3.6/dist-packages (from h2o) (0.8.7)\n",
            "Requirement already satisfied: certifi>=2017.4.17 in /usr/local/lib/python3.6/dist-packages (from requests->h2o) (2020.12.5)\n",
            "Requirement already satisfied: chardet<4,>=3.0.2 in /usr/local/lib/python3.6/dist-packages (from requests->h2o) (3.0.4)\n",
            "Requirement already satisfied: idna<3,>=2.5 in /usr/local/lib/python3.6/dist-packages (from requests->h2o) (2.10)\n",
            "Requirement already satisfied: urllib3!=1.25.0,!=1.25.1,<1.26,>=1.21.1 in /usr/local/lib/python3.6/dist-packages (from requests->h2o) (1.24.3)\n",
            "Checking whether there is an H2O instance running at http://localhost:54321 ..... not found.\n",
            "Attempting to start a local H2O server...\n",
            "  Java Version: openjdk version \"11.0.9.1\" 2020-11-04; OpenJDK Runtime Environment (build 11.0.9.1+1-Ubuntu-0ubuntu1.18.04); OpenJDK 64-Bit Server VM (build 11.0.9.1+1-Ubuntu-0ubuntu1.18.04, mixed mode, sharing)\n",
            "  Starting server from /usr/local/lib/python3.6/dist-packages/h2o/backend/bin/h2o.jar\n",
            "  Ice root: /tmp/tmpmzrzqqjo\n",
            "  JVM stdout: /tmp/tmpmzrzqqjo/h2o_unknownUser_started_from_python.out\n",
            "  JVM stderr: /tmp/tmpmzrzqqjo/h2o_unknownUser_started_from_python.err\n",
            "  Server is running at http://127.0.0.1:54321\n",
            "Connecting to H2O server at http://127.0.0.1:54321 ... successful.\n"
          ],
          "name": "stdout"
        },
        {
          "output_type": "display_data",
          "data": {
            "text/html": [
              "<div style=\"overflow:auto\"><table style=\"width:50%\"><tr><td>H2O_cluster_uptime:</td>\n",
              "<td>02 secs</td></tr>\n",
              "<tr><td>H2O_cluster_timezone:</td>\n",
              "<td>Etc/UTC</td></tr>\n",
              "<tr><td>H2O_data_parsing_timezone:</td>\n",
              "<td>UTC</td></tr>\n",
              "<tr><td>H2O_cluster_version:</td>\n",
              "<td>3.32.0.4</td></tr>\n",
              "<tr><td>H2O_cluster_version_age:</td>\n",
              "<td>2 days </td></tr>\n",
              "<tr><td>H2O_cluster_name:</td>\n",
              "<td>H2O_from_python_unknownUser_1mhawd</td></tr>\n",
              "<tr><td>H2O_cluster_total_nodes:</td>\n",
              "<td>1</td></tr>\n",
              "<tr><td>H2O_cluster_free_memory:</td>\n",
              "<td>25 Gb</td></tr>\n",
              "<tr><td>H2O_cluster_total_cores:</td>\n",
              "<td>2</td></tr>\n",
              "<tr><td>H2O_cluster_allowed_cores:</td>\n",
              "<td>2</td></tr>\n",
              "<tr><td>H2O_cluster_status:</td>\n",
              "<td>accepting new members, healthy</td></tr>\n",
              "<tr><td>H2O_connection_url:</td>\n",
              "<td>http://127.0.0.1:54321</td></tr>\n",
              "<tr><td>H2O_connection_proxy:</td>\n",
              "<td>{\"http\": null, \"https\": null}</td></tr>\n",
              "<tr><td>H2O_internal_security:</td>\n",
              "<td>False</td></tr>\n",
              "<tr><td>H2O_API_Extensions:</td>\n",
              "<td>Amazon S3, XGBoost, Algos, AutoML, Core V3, TargetEncoder, Core V4</td></tr>\n",
              "<tr><td>Python_version:</td>\n",
              "<td>3.6.9 final</td></tr></table></div>"
            ],
            "text/plain": [
              "--------------------------  ------------------------------------------------------------------\n",
              "H2O_cluster_uptime:         02 secs\n",
              "H2O_cluster_timezone:       Etc/UTC\n",
              "H2O_data_parsing_timezone:  UTC\n",
              "H2O_cluster_version:        3.32.0.4\n",
              "H2O_cluster_version_age:    2 days\n",
              "H2O_cluster_name:           H2O_from_python_unknownUser_1mhawd\n",
              "H2O_cluster_total_nodes:    1\n",
              "H2O_cluster_free_memory:    25 Gb\n",
              "H2O_cluster_total_cores:    2\n",
              "H2O_cluster_allowed_cores:  2\n",
              "H2O_cluster_status:         accepting new members, healthy\n",
              "H2O_connection_url:         http://127.0.0.1:54321\n",
              "H2O_connection_proxy:       {\"http\": null, \"https\": null}\n",
              "H2O_internal_security:      False\n",
              "H2O_API_Extensions:         Amazon S3, XGBoost, Algos, AutoML, Core V3, TargetEncoder, Core V4\n",
              "Python_version:             3.6.9 final\n",
              "--------------------------  ------------------------------------------------------------------"
            ]
          },
          "metadata": {
            "tags": []
          }
        }
      ]
    },
    {
      "cell_type": "code",
      "metadata": {
        "colab": {
          "base_uri": "https://localhost:8080/"
        },
        "id": "xBXAKdWTAniQ",
        "outputId": "b8d3f0f9-32f2-4ee2-d30f-48e16ce2510e"
      },
      "source": [
        "h2o_df = h2o.H2OFrame(df)"
      ],
      "execution_count": 5,
      "outputs": [
        {
          "output_type": "stream",
          "text": [
            "Parse progress: |█████████████████████████████████████████████████████████| 100%\n"
          ],
          "name": "stdout"
        }
      ]
    },
    {
      "cell_type": "code",
      "metadata": {
        "colab": {
          "base_uri": "https://localhost:8080/",
          "height": 655
        },
        "id": "yj6NU7dxAnfS",
        "outputId": "80d29c0d-ade2-469c-8bab-57096cd0ae83"
      },
      "source": [
        "h2o_df.describe()"
      ],
      "execution_count": 6,
      "outputs": [
        {
          "output_type": "stream",
          "text": [
            "Rows:7043\n",
            "Cols:21\n",
            "\n",
            "\n"
          ],
          "name": "stdout"
        },
        {
          "output_type": "display_data",
          "data": {
            "text/html": [
              "<table>\n",
              "<thead>\n",
              "<tr><th>       </th><th>customerID  </th><th>gender  </th><th>SeniorCitizen     </th><th>Partner  </th><th>Dependents  </th><th>tenure            </th><th>PhoneService  </th><th>MultipleLines   </th><th>InternetService  </th><th>OnlineSecurity  </th><th>OnlineBackup  </th><th>DeviceProtection  </th><th>TechSupport  </th><th>StreamingTV  </th><th>StreamingMovies  </th><th>Contract      </th><th>PaperlessBilling  </th><th>PaymentMethod            </th><th>MonthlyCharges   </th><th>TotalCharges      </th><th>Churn  </th></tr>\n",
              "</thead>\n",
              "<tbody>\n",
              "<tr><td>type   </td><td>string      </td><td>enum    </td><td>int               </td><td>enum     </td><td>enum        </td><td>int               </td><td>enum          </td><td>enum            </td><td>enum             </td><td>enum            </td><td>enum          </td><td>enum              </td><td>enum         </td><td>enum         </td><td>enum             </td><td>enum          </td><td>enum              </td><td>enum                     </td><td>real             </td><td>real              </td><td>enum   </td></tr>\n",
              "<tr><td>mins   </td><td>NaN         </td><td>        </td><td>0.0               </td><td>         </td><td>            </td><td>0.0               </td><td>              </td><td>                </td><td>                 </td><td>                </td><td>              </td><td>                  </td><td>             </td><td>             </td><td>                 </td><td>              </td><td>                  </td><td>                         </td><td>18.25            </td><td>18.8              </td><td>       </td></tr>\n",
              "<tr><td>mean   </td><td>NaN         </td><td>        </td><td>0.1621468124378816</td><td>         </td><td>            </td><td>32.37114865824243 </td><td>              </td><td>                </td><td>                 </td><td>                </td><td>              </td><td>                  </td><td>             </td><td>             </td><td>                 </td><td>              </td><td>                  </td><td>                         </td><td>64.76169246059902</td><td>2283.3004408418697</td><td>       </td></tr>\n",
              "<tr><td>maxs   </td><td>NaN         </td><td>        </td><td>1.0               </td><td>         </td><td>            </td><td>72.0              </td><td>              </td><td>                </td><td>                 </td><td>                </td><td>              </td><td>                  </td><td>             </td><td>             </td><td>                 </td><td>              </td><td>                  </td><td>                         </td><td>118.75           </td><td>8684.8            </td><td>       </td></tr>\n",
              "<tr><td>sigma  </td><td>NaN         </td><td>        </td><td>0.3686116056100131</td><td>         </td><td>            </td><td>24.559481023094442</td><td>              </td><td>                </td><td>                 </td><td>                </td><td>              </td><td>                  </td><td>             </td><td>             </td><td>                 </td><td>              </td><td>                  </td><td>                         </td><td>30.09004709767848</td><td>2266.771361883145 </td><td>       </td></tr>\n",
              "<tr><td>zeros  </td><td>0           </td><td>        </td><td>5901              </td><td>         </td><td>            </td><td>11                </td><td>              </td><td>                </td><td>                 </td><td>                </td><td>              </td><td>                  </td><td>             </td><td>             </td><td>                 </td><td>              </td><td>                  </td><td>                         </td><td>0                </td><td>0                 </td><td>       </td></tr>\n",
              "<tr><td>missing</td><td>0           </td><td>0       </td><td>0                 </td><td>0        </td><td>0           </td><td>0                 </td><td>0             </td><td>0               </td><td>0                </td><td>0               </td><td>0             </td><td>0                 </td><td>0            </td><td>0            </td><td>0                </td><td>0             </td><td>0                 </td><td>0                        </td><td>0                </td><td>11                </td><td>0      </td></tr>\n",
              "<tr><td>0      </td><td>7590-VHVEG  </td><td>Female  </td><td>0.0               </td><td>Yes      </td><td>No          </td><td>1.0               </td><td>No            </td><td>No phone service</td><td>DSL              </td><td>No              </td><td>Yes           </td><td>No                </td><td>No           </td><td>No           </td><td>No               </td><td>Month-to-month</td><td>Yes               </td><td>Electronic check         </td><td>29.85            </td><td>29.85             </td><td>No     </td></tr>\n",
              "<tr><td>1      </td><td>5575-GNVDE  </td><td>Male    </td><td>0.0               </td><td>No       </td><td>No          </td><td>34.0              </td><td>Yes           </td><td>No              </td><td>DSL              </td><td>Yes             </td><td>No            </td><td>Yes               </td><td>No           </td><td>No           </td><td>No               </td><td>One year      </td><td>No                </td><td>Mailed check             </td><td>56.95            </td><td>1889.5            </td><td>No     </td></tr>\n",
              "<tr><td>2      </td><td>3668-QPYBK  </td><td>Male    </td><td>0.0               </td><td>No       </td><td>No          </td><td>2.0               </td><td>Yes           </td><td>No              </td><td>DSL              </td><td>Yes             </td><td>Yes           </td><td>No                </td><td>No           </td><td>No           </td><td>No               </td><td>Month-to-month</td><td>Yes               </td><td>Mailed check             </td><td>53.85            </td><td>108.15            </td><td>Yes    </td></tr>\n",
              "<tr><td>3      </td><td>7795-CFOCW  </td><td>Male    </td><td>0.0               </td><td>No       </td><td>No          </td><td>45.0              </td><td>No            </td><td>No phone service</td><td>DSL              </td><td>Yes             </td><td>No            </td><td>Yes               </td><td>Yes          </td><td>No           </td><td>No               </td><td>One year      </td><td>No                </td><td>Bank transfer (automatic)</td><td>42.3             </td><td>1840.75           </td><td>No     </td></tr>\n",
              "<tr><td>4      </td><td>9237-HQITU  </td><td>Female  </td><td>0.0               </td><td>No       </td><td>No          </td><td>2.0               </td><td>Yes           </td><td>No              </td><td>Fiber optic      </td><td>No              </td><td>No            </td><td>No                </td><td>No           </td><td>No           </td><td>No               </td><td>Month-to-month</td><td>Yes               </td><td>Electronic check         </td><td>70.7             </td><td>151.65            </td><td>Yes    </td></tr>\n",
              "<tr><td>5      </td><td>9305-CDSKC  </td><td>Female  </td><td>0.0               </td><td>No       </td><td>No          </td><td>8.0               </td><td>Yes           </td><td>Yes             </td><td>Fiber optic      </td><td>No              </td><td>No            </td><td>Yes               </td><td>No           </td><td>Yes          </td><td>Yes              </td><td>Month-to-month</td><td>Yes               </td><td>Electronic check         </td><td>99.65            </td><td>820.5             </td><td>Yes    </td></tr>\n",
              "<tr><td>6      </td><td>1452-KIOVK  </td><td>Male    </td><td>0.0               </td><td>No       </td><td>Yes         </td><td>22.0              </td><td>Yes           </td><td>Yes             </td><td>Fiber optic      </td><td>No              </td><td>Yes           </td><td>No                </td><td>No           </td><td>Yes          </td><td>No               </td><td>Month-to-month</td><td>Yes               </td><td>Credit card (automatic)  </td><td>89.1             </td><td>1949.4            </td><td>No     </td></tr>\n",
              "<tr><td>7      </td><td>6713-OKOMC  </td><td>Female  </td><td>0.0               </td><td>No       </td><td>No          </td><td>10.0              </td><td>No            </td><td>No phone service</td><td>DSL              </td><td>Yes             </td><td>No            </td><td>No                </td><td>No           </td><td>No           </td><td>No               </td><td>Month-to-month</td><td>No                </td><td>Mailed check             </td><td>29.75            </td><td>301.9             </td><td>No     </td></tr>\n",
              "<tr><td>8      </td><td>7892-POOKP  </td><td>Female  </td><td>0.0               </td><td>Yes      </td><td>No          </td><td>28.0              </td><td>Yes           </td><td>Yes             </td><td>Fiber optic      </td><td>No              </td><td>No            </td><td>Yes               </td><td>Yes          </td><td>Yes          </td><td>Yes              </td><td>Month-to-month</td><td>Yes               </td><td>Electronic check         </td><td>104.8            </td><td>3046.05           </td><td>Yes    </td></tr>\n",
              "<tr><td>9      </td><td>6388-TABGU  </td><td>Male    </td><td>0.0               </td><td>No       </td><td>Yes         </td><td>62.0              </td><td>Yes           </td><td>No              </td><td>DSL              </td><td>Yes             </td><td>Yes           </td><td>No                </td><td>No           </td><td>No           </td><td>No               </td><td>One year      </td><td>No                </td><td>Bank transfer (automatic)</td><td>56.15            </td><td>3487.95           </td><td>No     </td></tr>\n",
              "</tbody>\n",
              "</table>"
            ]
          },
          "metadata": {
            "tags": []
          }
        }
      ]
    },
    {
      "cell_type": "markdown",
      "metadata": {
        "id": "N7CrybK-lI1H"
      },
      "source": [
        "#### Split data into training, test and validation"
      ]
    },
    {
      "cell_type": "code",
      "metadata": {
        "id": "8QtnPpsbAncx"
      },
      "source": [
        "train, test, valid = h2o_df.split_frame(ratios=[0.7, 0.15])"
      ],
      "execution_count": 7,
      "outputs": []
    },
    {
      "cell_type": "markdown",
      "metadata": {
        "id": "TWYF5zNQlPKm"
      },
      "source": [
        "#### Begin model training"
      ]
    },
    {
      "cell_type": "code",
      "metadata": {
        "colab": {
          "base_uri": "https://localhost:8080/"
        },
        "id": "qad-Bkw1AnaY",
        "outputId": "2165f366-00e7-4226-f913-fa85f75304f0"
      },
      "source": [
        "aml = H2OAutoML(max_models = 10, \r\n",
        "                seed = 10,\r\n",
        "                exclude_algos = [\"DeepLearning\"], \r\n",
        "                verbosity=\"info\",\r\n",
        "                nfolds=0, \r\n",
        "                balance_classes=True, \r\n",
        "                project_name=\"Final\")\r\n",
        "\r\n",
        "y = \"Churn\"\r\n",
        "x = list(df.columns)\r\n",
        "x.remove(y)\r\n",
        "x.remove(\"customerID\")\r\n",
        "\r\n",
        "\r\n",
        "aml.train(x=x, \r\n",
        "          y=y,\r\n",
        "          training_frame = train, \r\n",
        "          validation_frame=valid)"
      ],
      "execution_count": 8,
      "outputs": [
        {
          "output_type": "stream",
          "text": [
            "AutoML progress: |\n",
            "15:46:11.926: Project: Final\n",
            "15:46:11.927: Cross-validation disabled by user: no fold column nor nfolds > 1.\n",
            "15:46:11.930: Setting stopping tolerance adaptively based on the training frame: 0.014281343114939598\n",
            "15:46:11.932: Build control seed: 10\n",
            "15:46:11.934: Since cross-validation is disabled, and no leaderboard frame was provided, automatically split the training data into training and leaderboard frames in the ratio 90/10\n",
            "15:46:12.37: training frame: Frame key: automl_training_py_2_sid_8472    cols: 21    rows: 4416  chunks: 1    size: 200899  checksum: -3802321203956389334\n",
            "15:46:12.37: validation frame: Frame key: py_4_sid_8472    cols: 21    rows: 1068  chunks: 1    size: 46709  checksum: -2578117189002673666\n",
            "15:46:12.50: leaderboard frame: Frame key: automl_leaderboard_py_2_sid_8472    cols: 21    rows: 487  chunks: 1    size: 32444  checksum: 3858976052613692332\n",
            "15:46:12.50: blending frame: NULL\n",
            "15:46:12.50: response column: Churn\n",
            "15:46:12.50: fold column: null\n",
            "15:46:12.50: weights column: null\n",
            "15:46:12.80: Loading execution steps: [{XGBoost : defaults}, {GLM : defaults}, {DRF : [def_1]}, {GBM : defaults}, {DeepLearning : defaults}, {DRF : [XRT]}, {XGBoost : grids}, {GBM : grids}, {DeepLearning : grids}, {GBM : [lr_annealing]}, {XGBoost : [lr_search]}, {StackedEnsemble : defaults}]\n",
            "15:46:12.97: Disabling Algo: DeepLearning as requested by the user.\n",
            "15:46:12.100: AutoML job created: 2021.02.03 15:46:11.922\n",
            "15:46:12.101: AutoML build started: 2021.02.03 15:46:12.100\n",
            "15:46:12.112: AutoML: starting XGBoost_1_AutoML_20210203_154611 model training\n",
            "\n",
            "█\n",
            "15:46:15.213: New leader: XGBoost_1_AutoML_20210203_154611, auc: 0.829303867403315\n",
            "15:46:15.213: AutoML: starting XGBoost_2_AutoML_20210203_154611 model training\n",
            "\n",
            "█\n",
            "15:46:17.243: New leader: XGBoost_2_AutoML_20210203_154611, auc: 0.8484861878453038\n",
            "15:46:17.244: AutoML: starting XGBoost_3_AutoML_20210203_154611 model training\n",
            "\n",
            "██\n",
            "15:46:19.268: New leader: XGBoost_3_AutoML_20210203_154611, auc: 0.8559889502762431\n",
            "15:46:19.281: AutoML: starting GLM_1_AutoML_20210203_154611 model training\n",
            "\n",
            "██\n",
            "15:46:23.322: New leader: GLM_1_AutoML_20210203_154611, auc: 0.871403314917127\n",
            "15:46:23.325: AutoML: starting DRF_1_AutoML_20210203_154611 model training\n",
            "\n",
            "████\n",
            "15:46:29.425: AutoML: starting GBM_1_AutoML_20210203_154611 model training\n",
            "\n",
            "█\n",
            "15:46:31.501: AutoML: starting GBM_2_AutoML_20210203_154611 model training\n",
            "\n",
            "██\n",
            "15:46:33.530: AutoML: starting GBM_3_AutoML_20210203_154611 model training\n",
            "\n",
            "\n",
            "15:46:35.571: AutoML: starting GBM_4_AutoML_20210203_154611 model training\n",
            "\n",
            "██\n",
            "15:46:37.606: AutoML: starting GBM_5_AutoML_20210203_154611 model training\n",
            "\n",
            "█████████████████████████████████████████| 100%\n",
            "\n",
            "15:46:39.633: Cross-validation is disabled by the user and no blending frame was provided; skipping StackedEnsemble 'best'.\n",
            "15:46:39.634: Cross-validation is disabled by the user and no blending frame was provided; skipping StackedEnsemble 'all'.\n",
            "15:46:39.641: No base models, due to timeouts or the exclude_algos option. Skipping StackedEnsemble 'monotonic'.\n",
            "15:46:39.641: Actual modeling steps: [{XGBoost : [def_1 (10), def_2 (10), def_3 (10)]}, {GLM : [def_1 (10)]}, {DRF : [def_1 (10)]}, {GBM : [def_1 (10), def_2 (10), def_3 (10), def_4 (10), def_5 (10)]}]\n",
            "15:46:39.641: AutoML build stopped: 2021.02.03 15:46:39.641\n",
            "15:46:39.641: AutoML build done: built 10 models\n",
            "15:46:39.641: AutoML duration: 27.541 sec\n",
            "\n"
          ],
          "name": "stdout"
        }
      ]
    },
    {
      "cell_type": "markdown",
      "metadata": {
        "id": "J200FnlulTh8"
      },
      "source": [
        "#### Leaderboard"
      ]
    },
    {
      "cell_type": "code",
      "metadata": {
        "colab": {
          "base_uri": "https://localhost:8080/",
          "height": 250
        },
        "id": "lRUS0qEDAnX8",
        "outputId": "a813142b-bcba-4c0c-da78-0ee47267b986"
      },
      "source": [
        "aml.leaderboard"
      ],
      "execution_count": 9,
      "outputs": [
        {
          "output_type": "display_data",
          "data": {
            "text/html": [
              "<table>\n",
              "<thead>\n",
              "<tr><th>model_id                        </th><th style=\"text-align: right;\">     auc</th><th style=\"text-align: right;\">  logloss</th><th style=\"text-align: right;\">   aucpr</th><th style=\"text-align: right;\">  mean_per_class_error</th><th style=\"text-align: right;\">    rmse</th><th style=\"text-align: right;\">     mse</th></tr>\n",
              "</thead>\n",
              "<tbody>\n",
              "<tr><td>GLM_1_AutoML_20210203_154611    </td><td style=\"text-align: right;\">0.871403</td><td style=\"text-align: right;\"> 0.381276</td><td style=\"text-align: right;\">0.677443</td><td style=\"text-align: right;\">              0.217779</td><td style=\"text-align: right;\">0.352244</td><td style=\"text-align: right;\">0.124076</td></tr>\n",
              "<tr><td>GBM_5_AutoML_20210203_154611    </td><td style=\"text-align: right;\">0.865293</td><td style=\"text-align: right;\"> 0.388499</td><td style=\"text-align: right;\">0.69081 </td><td style=\"text-align: right;\">              0.199591</td><td style=\"text-align: right;\">0.354718</td><td style=\"text-align: right;\">0.125825</td></tr>\n",
              "<tr><td>GBM_2_AutoML_20210203_154611    </td><td style=\"text-align: right;\">0.856807</td><td style=\"text-align: right;\"> 0.402992</td><td style=\"text-align: right;\">0.657816</td><td style=\"text-align: right;\">              0.235536</td><td style=\"text-align: right;\">0.361372</td><td style=\"text-align: right;\">0.13059 </td></tr>\n",
              "<tr><td>XGBoost_3_AutoML_20210203_154611</td><td style=\"text-align: right;\">0.855989</td><td style=\"text-align: right;\"> 0.397954</td><td style=\"text-align: right;\">0.685646</td><td style=\"text-align: right;\">              0.222928</td><td style=\"text-align: right;\">0.359496</td><td style=\"text-align: right;\">0.129237</td></tr>\n",
              "<tr><td>GBM_1_AutoML_20210203_154611    </td><td style=\"text-align: right;\">0.854155</td><td style=\"text-align: right;\"> 0.403978</td><td style=\"text-align: right;\">0.664993</td><td style=\"text-align: right;\">              0.223967</td><td style=\"text-align: right;\">0.361016</td><td style=\"text-align: right;\">0.130332</td></tr>\n",
              "<tr><td>GBM_3_AutoML_20210203_154611    </td><td style=\"text-align: right;\">0.85137 </td><td style=\"text-align: right;\"> 0.412404</td><td style=\"text-align: right;\">0.66872 </td><td style=\"text-align: right;\">              0.220022</td><td style=\"text-align: right;\">0.364575</td><td style=\"text-align: right;\">0.132915</td></tr>\n",
              "<tr><td>XGBoost_2_AutoML_20210203_154611</td><td style=\"text-align: right;\">0.848486</td><td style=\"text-align: right;\"> 0.412671</td><td style=\"text-align: right;\">0.648878</td><td style=\"text-align: right;\">              0.221547</td><td style=\"text-align: right;\">0.366942</td><td style=\"text-align: right;\">0.134647</td></tr>\n",
              "<tr><td>GBM_4_AutoML_20210203_154611    </td><td style=\"text-align: right;\">0.846994</td><td style=\"text-align: right;\"> 0.42496 </td><td style=\"text-align: right;\">0.665176</td><td style=\"text-align: right;\">              0.22074 </td><td style=\"text-align: right;\">0.368416</td><td style=\"text-align: right;\">0.13573 </td></tr>\n",
              "<tr><td>DRF_1_AutoML_20210203_154611    </td><td style=\"text-align: right;\">0.843414</td><td style=\"text-align: right;\"> 0.430169</td><td style=\"text-align: right;\">0.649196</td><td style=\"text-align: right;\">              0.223359</td><td style=\"text-align: right;\">0.375828</td><td style=\"text-align: right;\">0.141247</td></tr>\n",
              "<tr><td>XGBoost_1_AutoML_20210203_154611</td><td style=\"text-align: right;\">0.829304</td><td style=\"text-align: right;\"> 0.439232</td><td style=\"text-align: right;\">0.632938</td><td style=\"text-align: right;\">              0.254497</td><td style=\"text-align: right;\">0.378352</td><td style=\"text-align: right;\">0.14315 </td></tr>\n",
              "</tbody>\n",
              "</table>"
            ]
          },
          "metadata": {
            "tags": []
          }
        },
        {
          "output_type": "execute_result",
          "data": {
            "text/plain": [
              ""
            ]
          },
          "metadata": {
            "tags": []
          },
          "execution_count": 9
        }
      ]
    },
    {
      "cell_type": "markdown",
      "metadata": {
        "id": "wQFLL_CwlVxK"
      },
      "source": [
        "#### Feature importance plot"
      ]
    },
    {
      "cell_type": "code",
      "metadata": {
        "id": "lUFHZbnnAmaT",
        "colab": {
          "base_uri": "https://localhost:8080/",
          "height": 495
        },
        "outputId": "9f907f98-dadd-4d38-9a3d-a38395d21686"
      },
      "source": [
        "model = h2o.get_model(\"GLM_1_AutoML_20210203_154611\")\r\n",
        "\r\n",
        "model.varimp_plot(num_of_features=10)"
      ],
      "execution_count": 12,
      "outputs": [
        {
          "output_type": "display_data",
          "data": {
            "image/png": "[encoded data removed]",
            "text/plain": [
              "<Figure size 1008x720 with 1 Axes>"
            ]
          },
          "metadata": {
            "tags": [],
            "needs_background": "light"
          }
        }
      ]
    },
    {
      "cell_type": "code",
      "metadata": {
        "id": "94PUKarokniO"
      },
      "source": [
        ""
      ],
      "execution_count": null,
      "outputs": []
    }
  ]
}